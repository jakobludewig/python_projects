{
 "cells": [
  {
   "cell_type": "code",
   "execution_count": 1,
   "id": "bcc89479",
   "metadata": {
    "scrolled": false
   },
   "outputs": [
    {
     "name": "stdout",
     "output_type": "stream",
     "text": [
      "Current metadata provider: local@/home/jakob/Code/python/python_projects/2021-05-05 Welfords Algorithm Analysis\n"
     ]
    }
   ],
   "source": [
    "from metaflow import Metaflow, Run, Flow, get_metadata, namespace, Step, Task\n",
    "import pandas as pd\n",
    "import numpy as np\n",
    "\n",
    "from plotnine import ggplot, geom_histogram, aes, theme_set, theme_bw, xlab, ylab, scales\n",
    "theme_set(theme_bw())\n",
    "\n",
    "plots = {}\n",
    "\n",
    "import os\n",
    "if not os.path.exists('out'):\n",
    "    os.makedirs('out')\n",
    "\n",
    "print(\"Current metadata provider: %s\" % get_metadata())"
   ]
  },
  {
   "cell_type": "markdown",
   "id": "1cb73bcd",
   "metadata": {},
   "source": [
    "## Access Results from Metaflow Metadata Store"
   ]
  },
  {
   "cell_type": "code",
   "execution_count": 2,
   "id": "44f05899",
   "metadata": {},
   "outputs": [
    {
     "name": "stdout",
     "output_type": "stream",
     "text": [
      "Run '1620241516973706' finished 2021-05-05T19:41:08Z\n"
     ]
    }
   ],
   "source": [
    "# identify run to analyse\n",
    "for r in [rr for rr in list(Flow('WelfordSimFlow').runs()) if rr.successful]:\n",
    "    print(\"Run '{}' finished {}\".format(r.id, r.finished_at))"
   ]
  },
  {
   "cell_type": "code",
   "execution_count": 3,
   "id": "2944a237",
   "metadata": {},
   "outputs": [],
   "source": [
    "run_to_analyse = Run('WelfordSimFlow/1620241516973706')\n",
    "results_simulation = run_to_analyse.data.data_variances_combined\n",
    "datasets_simulation = run_to_analyse.data.datasets"
   ]
  },
  {
   "cell_type": "markdown",
   "id": "ed39ca64",
   "metadata": {},
   "source": [
    "## Post-Process data\n"
   ]
  },
  {
   "cell_type": "code",
   "execution_count": 4,
   "id": "cbabcbc7",
   "metadata": {},
   "outputs": [],
   "source": [
    "# shift variance estimates by minimal amount so all errors can be computed\n",
    "results_simulation['var_numpy'] = results_simulation['var_numpy'] + 1e-20\n",
    "results_simulation['var_welford'] = results_simulation['var_welford'] + 1e-20"
   ]
  },
  {
   "cell_type": "code",
   "execution_count": 5,
   "id": "196279eb",
   "metadata": {},
   "outputs": [],
   "source": [
    "results_simulation['abs_error'] = abs(results_simulation['var_numpy'] - results_simulation['var_welford'])\n",
    "results_simulation['rel_error'] = results_simulation['abs_error']/results_simulation['var_numpy'] + 1e-20"
   ]
  },
  {
   "cell_type": "code",
   "execution_count": 6,
   "id": "0531f216",
   "metadata": {},
   "outputs": [
    {
     "data": {
      "text/html": [
       "<div>\n",
       "<style scoped>\n",
       "    .dataframe tbody tr th:only-of-type {\n",
       "        vertical-align: middle;\n",
       "    }\n",
       "\n",
       "    .dataframe tbody tr th {\n",
       "        vertical-align: top;\n",
       "    }\n",
       "\n",
       "    .dataframe thead th {\n",
       "        text-align: right;\n",
       "    }\n",
       "</style>\n",
       "<table border=\"1\" class=\"dataframe\">\n",
       "  <thead>\n",
       "    <tr style=\"text-align: right;\">\n",
       "      <th></th>\n",
       "      <th>row_id</th>\n",
       "      <th>value</th>\n",
       "      <th>count_welford</th>\n",
       "      <th>mean_welford</th>\n",
       "      <th>M2_welford</th>\n",
       "      <th>var_welford</th>\n",
       "      <th>column</th>\n",
       "      <th>var_numpy</th>\n",
       "      <th>dataset_id</th>\n",
       "      <th>abs_error</th>\n",
       "      <th>rel_error</th>\n",
       "    </tr>\n",
       "  </thead>\n",
       "  <tbody>\n",
       "    <tr>\n",
       "      <th>282</th>\n",
       "      <td>282</td>\n",
       "      <td>0.000000</td>\n",
       "      <td>283.0</td>\n",
       "      <td>1.236749e-01</td>\n",
       "      <td>30.671378</td>\n",
       "      <td>1.087638e-01</td>\n",
       "      <td>FCFP6_1024_36</td>\n",
       "      <td>1.087638e-01</td>\n",
       "      <td>3963</td>\n",
       "      <td>4.163336e-17</td>\n",
       "      <td>3.827971e-16</td>\n",
       "    </tr>\n",
       "    <tr>\n",
       "      <th>282</th>\n",
       "      <td>282</td>\n",
       "      <td>0.000000</td>\n",
       "      <td>283.0</td>\n",
       "      <td>7.067138e-03</td>\n",
       "      <td>1.985866</td>\n",
       "      <td>7.042077e-03</td>\n",
       "      <td>FCFP6_1024_869</td>\n",
       "      <td>7.042077e-03</td>\n",
       "      <td>3963</td>\n",
       "      <td>2.602085e-18</td>\n",
       "      <td>3.695154e-16</td>\n",
       "    </tr>\n",
       "    <tr>\n",
       "      <th>282</th>\n",
       "      <td>282</td>\n",
       "      <td>0.000000</td>\n",
       "      <td>283.0</td>\n",
       "      <td>0.000000e+00</td>\n",
       "      <td>0.000000</td>\n",
       "      <td>1.000000e-20</td>\n",
       "      <td>FCFP6_1024_146</td>\n",
       "      <td>1.000000e-20</td>\n",
       "      <td>3963</td>\n",
       "      <td>0.000000e+00</td>\n",
       "      <td>1.000000e-20</td>\n",
       "    </tr>\n",
       "    <tr>\n",
       "      <th>282</th>\n",
       "      <td>282</td>\n",
       "      <td>0.000000</td>\n",
       "      <td>283.0</td>\n",
       "      <td>0.000000e+00</td>\n",
       "      <td>0.000000</td>\n",
       "      <td>1.000000e-20</td>\n",
       "      <td>FCFP6_1024_349</td>\n",
       "      <td>1.000000e-20</td>\n",
       "      <td>3963</td>\n",
       "      <td>0.000000e+00</td>\n",
       "      <td>1.000000e-20</td>\n",
       "    </tr>\n",
       "    <tr>\n",
       "      <th>282</th>\n",
       "      <td>282</td>\n",
       "      <td>0.000000</td>\n",
       "      <td>283.0</td>\n",
       "      <td>2.650177e-01</td>\n",
       "      <td>55.123675</td>\n",
       "      <td>1.954740e-01</td>\n",
       "      <td>FCFP6_1024_883</td>\n",
       "      <td>1.954740e-01</td>\n",
       "      <td>3963</td>\n",
       "      <td>8.326673e-17</td>\n",
       "      <td>4.259834e-16</td>\n",
       "    </tr>\n",
       "    <tr>\n",
       "      <th>...</th>\n",
       "      <td>...</td>\n",
       "      <td>...</td>\n",
       "      <td>...</td>\n",
       "      <td>...</td>\n",
       "      <td>...</td>\n",
       "      <td>...</td>\n",
       "      <td>...</td>\n",
       "      <td>...</td>\n",
       "      <td>...</td>\n",
       "      <td>...</td>\n",
       "      <td>...</td>\n",
       "    </tr>\n",
       "    <tr>\n",
       "      <th>999</th>\n",
       "      <td>999</td>\n",
       "      <td>0.881283</td>\n",
       "      <td>1000.0</td>\n",
       "      <td>2.137000e-10</td>\n",
       "      <td>998.999998</td>\n",
       "      <td>1.000000e+00</td>\n",
       "      <td>oz22</td>\n",
       "      <td>1.000000e+00</td>\n",
       "      <td>589</td>\n",
       "      <td>0.000000e+00</td>\n",
       "      <td>1.000000e-20</td>\n",
       "    </tr>\n",
       "    <tr>\n",
       "      <th>999</th>\n",
       "      <td>999</td>\n",
       "      <td>-1.020728</td>\n",
       "      <td>1000.0</td>\n",
       "      <td>6.125000e-11</td>\n",
       "      <td>999.000004</td>\n",
       "      <td>1.000000e+00</td>\n",
       "      <td>oz10</td>\n",
       "      <td>1.000000e+00</td>\n",
       "      <td>589</td>\n",
       "      <td>6.661338e-16</td>\n",
       "      <td>6.661438e-16</td>\n",
       "    </tr>\n",
       "    <tr>\n",
       "      <th>999</th>\n",
       "      <td>999</td>\n",
       "      <td>-0.766837</td>\n",
       "      <td>1000.0</td>\n",
       "      <td>8.812000e-10</td>\n",
       "      <td>998.999998</td>\n",
       "      <td>1.000000e+00</td>\n",
       "      <td>oz9</td>\n",
       "      <td>1.000000e+00</td>\n",
       "      <td>589</td>\n",
       "      <td>1.887379e-15</td>\n",
       "      <td>1.887389e-15</td>\n",
       "    </tr>\n",
       "    <tr>\n",
       "      <th>999</th>\n",
       "      <td>999</td>\n",
       "      <td>0.078042</td>\n",
       "      <td>1000.0</td>\n",
       "      <td>-4.419000e-11</td>\n",
       "      <td>999.000003</td>\n",
       "      <td>1.000000e+00</td>\n",
       "      <td>oz20</td>\n",
       "      <td>1.000000e+00</td>\n",
       "      <td>589</td>\n",
       "      <td>2.220446e-16</td>\n",
       "      <td>2.220546e-16</td>\n",
       "    </tr>\n",
       "    <tr>\n",
       "      <th>999</th>\n",
       "      <td>999</td>\n",
       "      <td>0.511569</td>\n",
       "      <td>1000.0</td>\n",
       "      <td>8.698000e-10</td>\n",
       "      <td>999.000000</td>\n",
       "      <td>1.000000e+00</td>\n",
       "      <td>oz11</td>\n",
       "      <td>1.000000e+00</td>\n",
       "      <td>589</td>\n",
       "      <td>6.661338e-16</td>\n",
       "      <td>6.661438e-16</td>\n",
       "    </tr>\n",
       "  </tbody>\n",
       "</table>\n",
       "<p>7935 rows × 11 columns</p>\n",
       "</div>"
      ],
      "text/plain": [
       "     row_id     value  count_welford  mean_welford  M2_welford   var_welford  \\\n",
       "282     282  0.000000          283.0  1.236749e-01   30.671378  1.087638e-01   \n",
       "282     282  0.000000          283.0  7.067138e-03    1.985866  7.042077e-03   \n",
       "282     282  0.000000          283.0  0.000000e+00    0.000000  1.000000e-20   \n",
       "282     282  0.000000          283.0  0.000000e+00    0.000000  1.000000e-20   \n",
       "282     282  0.000000          283.0  2.650177e-01   55.123675  1.954740e-01   \n",
       "..      ...       ...            ...           ...         ...           ...   \n",
       "999     999  0.881283         1000.0  2.137000e-10  998.999998  1.000000e+00   \n",
       "999     999 -1.020728         1000.0  6.125000e-11  999.000004  1.000000e+00   \n",
       "999     999 -0.766837         1000.0  8.812000e-10  998.999998  1.000000e+00   \n",
       "999     999  0.078042         1000.0 -4.419000e-11  999.000003  1.000000e+00   \n",
       "999     999  0.511569         1000.0  8.698000e-10  999.000000  1.000000e+00   \n",
       "\n",
       "             column     var_numpy  dataset_id     abs_error     rel_error  \n",
       "282   FCFP6_1024_36  1.087638e-01        3963  4.163336e-17  3.827971e-16  \n",
       "282  FCFP6_1024_869  7.042077e-03        3963  2.602085e-18  3.695154e-16  \n",
       "282  FCFP6_1024_146  1.000000e-20        3963  0.000000e+00  1.000000e-20  \n",
       "282  FCFP6_1024_349  1.000000e-20        3963  0.000000e+00  1.000000e-20  \n",
       "282  FCFP6_1024_883  1.954740e-01        3963  8.326673e-17  4.259834e-16  \n",
       "..              ...           ...         ...           ...           ...  \n",
       "999            oz22  1.000000e+00         589  0.000000e+00  1.000000e-20  \n",
       "999            oz10  1.000000e+00         589  6.661338e-16  6.661438e-16  \n",
       "999             oz9  1.000000e+00         589  1.887379e-15  1.887389e-15  \n",
       "999            oz20  1.000000e+00         589  2.220446e-16  2.220546e-16  \n",
       "999            oz11  1.000000e+00         589  6.661338e-16  6.661438e-16  \n",
       "\n",
       "[7935 rows x 11 columns]"
      ]
     },
     "execution_count": 6,
     "metadata": {},
     "output_type": "execute_result"
    }
   ],
   "source": [
    "results_simulation"
   ]
  },
  {
   "cell_type": "markdown",
   "id": "d9ff211a",
   "metadata": {},
   "source": [
    "## Statistics About Datasets Used in Simulation"
   ]
  },
  {
   "cell_type": "code",
   "execution_count": 7,
   "id": "44d57863",
   "metadata": {},
   "outputs": [
    {
     "name": "stdout",
     "output_type": "stream",
     "text": [
      "Number of datasets in simulation: 500\n",
      "Minimum number of observations per dataset: 2\n",
      "Maximum number of observations per dataset: 4898431\n",
      "Median number of observations per dataset: 400\n"
     ]
    }
   ],
   "source": [
    "print(\"Number of datasets in simulation: {0}\".format(len(datasets_simulation['did'].unique())))\n",
    "print(\"Minimum number of observations per dataset: {0}\".format(int(datasets_simulation['NumberOfInstances'].min())))\n",
    "print(\"Maximum number of observations per dataset: {0}\".format(int(datasets_simulation['NumberOfInstances'].max())))\n",
    "print(\"Median number of observations per dataset: {0}\".format(int(datasets_simulation['NumberOfInstances'].median())))"
   ]
  },
  {
   "cell_type": "code",
   "execution_count": 8,
   "id": "c10b4d62",
   "metadata": {},
   "outputs": [
    {
     "data": {
      "image/png": "[encoded data removed]",
      "text/plain": [
       "<Figure size 640x480 with 1 Axes>"
      ]
     },
     "metadata": {},
     "output_type": "display_data"
    },
    {
     "data": {
      "text/plain": [
       "<ggplot: (8736680112312)>"
      ]
     },
     "execution_count": 8,
     "metadata": {},
     "output_type": "execute_result"
    }
   ],
   "source": [
    "plots['dist_obs_dataset'] = (ggplot(datasets_simulation, aes('NumberOfInstances'))\n",
    " + geom_histogram(binwidth = 1) \n",
    " + xlab(\"Number of Observations (log 10 scale)\") \n",
    " + ylab(\"Number of Datasets\")\n",
    " + scales.scale_x_log10())\n",
    "plots['dist_obs_dataset']"
   ]
  },
  {
   "cell_type": "markdown",
   "id": "4da3ecb2",
   "metadata": {},
   "source": [
    "## Analysis of Results"
   ]
  },
  {
   "cell_type": "code",
   "execution_count": 9,
   "id": "63c2e4e8",
   "metadata": {},
   "outputs": [
    {
     "name": "stdout",
     "output_type": "stream",
     "text": [
      "Number of variances computed: 7935\n",
      "Maximum relative error: 2.238899973785924e-07\n",
      "Mean relative error: 4.900202088594697e-10\n",
      "Median relative error: 2.920710794339982e-16\n",
      "Percentage of cases with exact matches: 0.30107120352867045\n"
     ]
    }
   ],
   "source": [
    "print(\"Number of variances computed: {}\".format(len(results_simulation)))\n",
    "print(\"Maximum relative error: {}\".format(results_simulation['rel_error'].max()))\n",
    "print(\"Mean relative error: {}\".format(results_simulation['rel_error'].mean()))\n",
    "print(\"Median relative error: {}\".format(results_simulation['rel_error'].median()))\n",
    "print(\"Percentage of cases with exact matches: {}\".format(np.mean(results_simulation['rel_error'] <= 1e-20)))"
   ]
  },
  {
   "cell_type": "code",
   "execution_count": 10,
   "id": "56c5282d",
   "metadata": {},
   "outputs": [
    {
     "data": {
      "image/png": "[encoded data removed]",
      "text/plain": [
       "<Figure size 640x480 with 1 Axes>"
      ]
     },
     "metadata": {},
     "output_type": "display_data"
    },
    {
     "data": {
      "text/plain": [
       "<ggplot: (8736677880483)>"
      ]
     },
     "execution_count": 10,
     "metadata": {},
     "output_type": "execute_result"
    }
   ],
   "source": [
    "plots['dist_rel_error'] = (ggplot(results_simulation, aes('rel_error'))\n",
    " + geom_histogram(binwidth = 1) \n",
    " + xlab(\"Relative Error (log 10 scale)\") \n",
    " + ylab(\"Number of Computed Variances\")\n",
    " + scales.scale_x_log10())\n",
    "plots['dist_rel_error']"
   ]
  },
  {
   "cell_type": "markdown",
   "id": "57009950",
   "metadata": {},
   "source": [
    "## Write out Plots"
   ]
  },
  {
   "cell_type": "code",
   "execution_count": 12,
   "id": "e8ef50ab",
   "metadata": {},
   "outputs": [
    {
     "name": "stderr",
     "output_type": "stream",
     "text": [
      "/home/jakob/.conda/envs/welford_py3.8/lib/python3.8/site-packages/plotnine/ggplot.py:719: PlotnineWarning: Saving 12 x 10 in image.\n",
      "/home/jakob/.conda/envs/welford_py3.8/lib/python3.8/site-packages/plotnine/ggplot.py:722: PlotnineWarning: Filename: out/dist_obs_dataset.png\n",
      "/home/jakob/.conda/envs/welford_py3.8/lib/python3.8/site-packages/plotnine/ggplot.py:719: PlotnineWarning: Saving 12 x 10 in image.\n",
      "/home/jakob/.conda/envs/welford_py3.8/lib/python3.8/site-packages/plotnine/ggplot.py:722: PlotnineWarning: Filename: out/dist_rel_error.png\n"
     ]
    }
   ],
   "source": [
    "for k,v in plots.items():\n",
    "    v.save(filename = \"out/\" + k + \".png\",width = 12, height = 10)"
   ]
  },
  {
   "cell_type": "code",
   "execution_count": null,
   "id": "f2d867fb",
   "metadata": {},
   "outputs": [],
   "source": []
  }
 ],
 "metadata": {
  "kernelspec": {
   "display_name": "Python 3",
   "language": "python",
   "name": "python3"
  },
  "language_info": {
   "codemirror_mode": {
    "name": "ipython",
    "version": 3
   },
   "file_extension": ".py",
   "mimetype": "text/x-python",
   "name": "python",
   "nbconvert_exporter": "python",
   "pygments_lexer": "ipython3",
   "version": "3.8.8"
  }
 },
 "nbformat": 4,
 "nbformat_minor": 5
}
